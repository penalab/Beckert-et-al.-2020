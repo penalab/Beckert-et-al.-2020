{
 "cells": [
  {
   "cell_type": "code",
   "execution_count": 1,
   "metadata": {},
   "outputs": [],
   "source": [
    "import scipy.io as sio\n",
    "import repro_functions as repro\n",
    "import numpy as np"
   ]
  },
  {
   "cell_type": "code",
   "execution_count": 8,
   "metadata": {},
   "outputs": [],
   "source": [
    "def load_data(group = 0, fol = r'f:\\desktop\\Code\\Reproducibility\\python\\reproducibility\\data\\iccl'):\n",
    "\n",
    "    dataset = sio.loadmat(fol + '\\\\repro_iccl_ITD' + str(group) + '_001.mat')\n",
    "\n",
    "    fr = dataset['fr']\n",
    "    cw = dataset['cw']\n",
    "    curve = dataset['curve']\n",
    "\n",
    "    return fr, cw, curve\n",
    "\n",
    "def integration_window(curve, cw, window = 0.0005):\n",
    "    win = window / cw\n",
    "    neurons, bins = np.shape(curve)\n",
    "    center = bins / 2\n",
    "    curve = curve[:, int(center - win):int(center + win)]\n",
    "    return curve\n",
    "\n",
    "def calc_strength(curve, fr, cw):\n",
    "    strength = []\n",
    "    for c, m in zip(curve, fr.T):\n",
    "        n, s = repro.brettenorm(c, m, cw)\n",
    "        strength.append(s[0][0])\n",
    "    del c, m, n, s\n",
    "    return strength\n",
    "\n",
    "def save_data(group, strength):\n",
    "    sio.savemat('repro_iccl_ITD' + str(group) + '_001_strength.mat', {'strength':strength})"
   ]
  },
  {
   "cell_type": "code",
   "execution_count": 11,
   "metadata": {},
   "outputs": [
    {
     "name": "stdout",
     "output_type": "stream",
     "text": [
      "-200\n",
      "-180\n",
      "-160\n",
      "-140\n",
      "-120\n",
      "-100\n",
      "-80\n",
      "-60\n",
      "-40\n",
      "-20\n",
      "0\n",
      "20\n",
      "40\n",
      "60\n",
      "80\n",
      "100\n",
      "120\n",
      "140\n",
      "160\n",
      "180\n",
      "200\n"
     ]
    }
   ],
   "source": [
    "groups = np.arange(-200, 201, 20)\n",
    "\n",
    "for group in groups:\n",
    "    print(str(group))\n",
    "    fr, cw, curve = load_data(group)\n",
    "    curve = integration_window(curve, cw)\n",
    "    strength = calc_strength(curve, fr, cw)\n",
    "    save_data(group, strength)\n",
    "    "
   ]
  },
  {
   "cell_type": "code",
   "execution_count": null,
   "metadata": {},
   "outputs": [],
   "source": []
  }
 ],
 "metadata": {
  "kernelspec": {
   "display_name": "Python 2",
   "language": "python",
   "name": "python2"
  },
  "language_info": {
   "codemirror_mode": {
    "name": "ipython",
    "version": 2
   },
   "file_extension": ".py",
   "mimetype": "text/x-python",
   "name": "python",
   "nbconvert_exporter": "python",
   "pygments_lexer": "ipython2",
   "version": "2.7.14"
  }
 },
 "nbformat": 4,
 "nbformat_minor": 2
}
