{
 "cells": [
  {
   "cell_type": "code",
   "execution_count": 14,
   "metadata": {},
   "outputs": [],
   "source": [
    "import brian2 as br\n",
    "import numpy as np\n",
    "import pandas as pd\n",
    "import repro_functions as repro\n",
    "import scipy.io as sio"
   ]
  },
  {
   "cell_type": "code",
   "execution_count": 273,
   "metadata": {},
   "outputs": [],
   "source": [
    "fol = r'f:\\desktop\\Code\\Reproducibility\\model_ICx\\SynchResults\\data\\out'\n",
    "group = -160\n",
    "\n",
    "dataset = sio.loadmat(fol + '\\\\SynchOut_ITD' + str(group) + '_001.mat')\n",
    "spikes = dataset['spikesICx']\n",
    "\n",
    "del fol, dataset"
   ]
  },
  {
   "cell_type": "code",
   "execution_count": 274,
   "metadata": {},
   "outputs": [],
   "source": [
    "dur = 0.3\n",
    "cw = 0.0001 * br.second\n",
    "bins = len(np.arange(0 * br.second, dur * br.second + 0.05 * br.second + cw, cw)) - 1\n",
    "neurons, reps = np.shape(spikes)"
   ]
  },
  {
   "cell_type": "code",
   "execution_count": 275,
   "metadata": {},
   "outputs": [],
   "source": [
    "hist = np.ndarray([int(neurons), bins])\n",
    "\n",
    "for n in range(neurons):\n",
    "    sp = spikes[n, :]\n",
    "    sp = [s/1000 for s in sp]\n",
    "    try:\n",
    "        hist[n, :] = repro.make_PSTH(np.concatenate(sp, 1), dur * br.second, cw, reps, 0 * br.second)\n",
    "    except:\n",
    "        print(str(n))\n",
    "            \n",
    "del n, sp, s"
   ]
  },
  {
   "cell_type": "code",
   "execution_count": 276,
   "metadata": {},
   "outputs": [],
   "source": [
    "# variables\n",
    "curve_time = 100\n",
    "\n",
    "rep_out = pd.DataFrame(columns = ['neuron', 'fr', 'curve'])\n",
    "\n",
    "for n in range(neurons):\n",
    "    try:\n",
    "        t, SAC = repro.autocor(hist[n, :] * br.Hz, reps, T=curve_time*br.ms, bin=cw)\n",
    "        SAC = SAC * br.Hz ** 2\n",
    "        sp = np.mean(hist[n, :])\n",
    "    except:\n",
    "        print(str(n))\n",
    "        arr = np.arange(-(curve_time * br.ms), (curve_time * br.ms) , cw)\n",
    "        arr = np.delete(arr, 0)\n",
    "        arr[:] = np.nan\n",
    "        SAC = arr\n",
    "        del arr\n",
    "        sp = np.nan\n",
    "        pass\n",
    "    tmp = {'neuron': n, 'fr':sp, 'curve': SAC}\n",
    "    rep_out = rep_out.append(tmp, ignore_index = True)\n",
    "    \n",
    "del n, t, SAC, sp, tmp"
   ]
  },
  {
   "cell_type": "code",
   "execution_count": 277,
   "metadata": {},
   "outputs": [],
   "source": [
    "curve = [c for c in rep_out['curve']]\n",
    "\n",
    "sio.savemat('repro_ITD' + str(group) + '_001_varying.mat', {'curve':curve, 'cw':cw, 'neuron':rep_out['neuron'].tolist(), 'fr':rep_out['fr'].tolist(), 'reps':reps, 'dur':dur})\n",
    "\n",
    "del curve, c"
   ]
  },
  {
   "cell_type": "code",
   "execution_count": 278,
   "metadata": {},
   "outputs": [],
   "source": [
    "del bins, curve_time, cw, dur, group, neurons, reps"
   ]
  },
  {
   "cell_type": "code",
   "execution_count": 279,
   "metadata": {},
   "outputs": [],
   "source": [
    "del hist, spikes"
   ]
  },
  {
   "cell_type": "code",
   "execution_count": 280,
   "metadata": {},
   "outputs": [],
   "source": [
    "del rep_out"
   ]
  },
  {
   "cell_type": "code",
   "execution_count": 160,
   "metadata": {},
   "outputs": [],
   "source": [
    "import matplotlib.pyplot as plt"
   ]
  },
  {
   "cell_type": "code",
   "execution_count": 87,
   "metadata": {},
   "outputs": [
    {
     "data": {
      "text/plain": [
       "[<matplotlib.lines.Line2D at 0x1c218d30>]"
      ]
     },
     "execution_count": 87,
     "metadata": {},
     "output_type": "execute_result"
    },
    {
     "data": {
      "image/png": "[encoded data removed]",
      "text/plain": [
       "<matplotlib.figure.Figure at 0x1c0e2fd0>"
      ]
     },
     "metadata": {},
     "output_type": "display_data"
    }
   ],
   "source": [
    "plt.plot(hist[35])"
   ]
  },
  {
   "cell_type": "code",
   "execution_count": null,
   "metadata": {},
   "outputs": [],
   "source": []
  }
 ],
 "metadata": {
  "kernelspec": {
   "display_name": "Python 2",
   "language": "python",
   "name": "python2"
  },
  "language_info": {
   "codemirror_mode": {
    "name": "ipython",
    "version": 2
   },
   "file_extension": ".py",
   "mimetype": "text/x-python",
   "name": "python",
   "nbconvert_exporter": "python",
   "pygments_lexer": "ipython2",
   "version": "2.7.14"
  }
 },
 "nbformat": 4,
 "nbformat_minor": 2
}
