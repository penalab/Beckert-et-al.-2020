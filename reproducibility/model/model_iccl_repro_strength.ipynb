{
 "cells": [
  {
   "cell_type": "code",
   "execution_count": 12,
   "metadata": {
    "ExecuteTime": {
     "end_time": "2019-09-09T16:05:40.926885Z",
     "start_time": "2019-09-09T16:05:40.916911Z"
    }
   },
   "outputs": [],
   "source": [
    "import scipy.io as sio\n",
    "import repro_functions as repro\n",
    "import numpy as np"
   ]
  },
  {
   "cell_type": "code",
   "execution_count": 13,
   "metadata": {
    "ExecuteTime": {
     "end_time": "2019-09-09T16:05:42.028938Z",
     "start_time": "2019-09-09T16:05:42.019963Z"
    }
   },
   "outputs": [],
   "source": [
    "def load_data(group = 0, fol = r'K:\\python\\reproducibility\\data\\iccl'):\n",
    "\n",
    "    dataset = sio.loadmat(fol + '\\\\repro_iccl_ITD' + str(group) + '_001_SNR20.mat')\n",
    "\n",
    "    fr = dataset['fr']\n",
    "    cw = dataset['cw']\n",
    "    curve = dataset['curve']\n",
    "\n",
    "    return fr, cw, curve\n",
    "\n",
    "def integration_window(curve, cw, window = 0.0005):\n",
    "    win = window / cw\n",
    "    neurons, bins = np.shape(curve)\n",
    "    center = bins / 2\n",
    "    curve = curve[:, int(center - win):int(center + win)]\n",
    "    return curve\n",
    "\n",
    "def calc_strength(curve, fr, cw):\n",
    "    strength = []\n",
    "    for c, m in zip(curve, fr.T):\n",
    "        n, s = repro.brettenorm(c, m, cw)\n",
    "        strength.append(s[0][0])\n",
    "    del c, m, n, s\n",
    "    return strength\n",
    "\n",
    "def save_data(group, strength):\n",
    "    sio.savemat('K:\\\\python\\\\reproducibility\\\\data\\\\iccl\\\\repro_iccl_ITD' + str(group) + '_001_SNR20_strength.mat', {'strength':strength})"
   ]
  },
  {
   "cell_type": "code",
   "execution_count": 14,
   "metadata": {
    "ExecuteTime": {
     "end_time": "2019-09-09T16:06:56.199634Z",
     "start_time": "2019-09-09T16:06:54.635816Z"
    }
   },
   "outputs": [
    {
     "name": "stdout",
     "output_type": "stream",
     "text": [
      "-200\n",
      "-180\n",
      "-160\n",
      "-140\n",
      "-120\n",
      "-100\n",
      "-80\n",
      "-60\n",
      "-40\n",
      "-20\n",
      "0\n",
      "20\n",
      "40\n",
      "60\n",
      "80\n",
      "100\n",
      "120\n",
      "140\n",
      "160\n",
      "180\n",
      "200\n"
     ]
    }
   ],
   "source": [
    "groups = np.arange(-200, 201, 20)\n",
    "#groups = [100]\n",
    "\n",
    "for group in groups:\n",
    "    print(str(group))\n",
    "    fr, cw, curve = load_data(group)\n",
    "    curve = integration_window(curve, cw)\n",
    "    strength = calc_strength(curve, fr, cw)\n",
    "    save_data(group, strength)\n",
    "    "
   ]
  },
  {
   "cell_type": "code",
   "execution_count": null,
   "metadata": {},
   "outputs": [],
   "source": []
  }
 ],
 "metadata": {
  "kernelspec": {
   "display_name": "Python 3",
   "language": "python",
   "name": "python3"
  },
  "language_info": {
   "codemirror_mode": {
    "name": "ipython",
    "version": 3
   },
   "file_extension": ".py",
   "mimetype": "text/x-python",
   "name": "python",
   "nbconvert_exporter": "python",
   "pygments_lexer": "ipython3",
   "version": "3.7.3"
  },
  "toc": {
   "base_numbering": 1,
   "nav_menu": {},
   "number_sections": true,
   "sideBar": true,
   "skip_h1_title": false,
   "title_cell": "Table of Contents",
   "title_sidebar": "Contents",
   "toc_cell": false,
   "toc_position": {},
   "toc_section_display": true,
   "toc_window_display": false
  },
  "varInspector": {
   "cols": {
    "lenName": 16,
    "lenType": 16,
    "lenVar": 40
   },
   "kernels_config": {
    "python": {
     "delete_cmd_postfix": "",
     "delete_cmd_prefix": "del ",
     "library": "var_list.py",
     "varRefreshCmd": "print(var_dic_list())"
    },
    "r": {
     "delete_cmd_postfix": ") ",
     "delete_cmd_prefix": "rm(",
     "library": "var_list.r",
     "varRefreshCmd": "cat(var_dic_list()) "
    }
   },
   "types_to_exclude": [
    "module",
    "function",
    "builtin_function_or_method",
    "instance",
    "_Feature"
   ],
   "window_display": false
  }
 },
 "nbformat": 4,
 "nbformat_minor": 2
}
