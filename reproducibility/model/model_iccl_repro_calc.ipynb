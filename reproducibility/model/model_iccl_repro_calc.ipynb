{
 "cells": [
  {
   "cell_type": "code",
   "execution_count": 22,
   "metadata": {
    "ExecuteTime": {
     "end_time": "2019-09-08T16:06:43.204276Z",
     "start_time": "2019-09-08T16:06:43.201312Z"
    }
   },
   "outputs": [],
   "source": [
    "import brian2 as br\n",
    "import numpy as np\n",
    "import pandas as pd\n",
    "import repro_functions as repro\n",
    "\n",
    "import scipy.io as sio"
   ]
  },
  {
   "cell_type": "code",
   "execution_count": 23,
   "metadata": {
    "ExecuteTime": {
     "end_time": "2019-09-08T16:06:44.224548Z",
     "start_time": "2019-09-08T16:06:44.220564Z"
    }
   },
   "outputs": [],
   "source": [
    "def load_data(group):\n",
    "\n",
    "    #fol = r'f:\\desktop\\Code\\Reproducibility\\model_ICx\\SynchResults\\data\\iccl'\n",
    "    fol = r'K:\\python\\model_ICx_codeonly\\SynchResults\\data\\iccl'\n",
    "    #group = -180\n",
    "\n",
    "    dataset = sio.loadmat(fol + '\\\\SynchICcl_ITD' + str(group) + '_001_SNR20.mat')\n",
    "    spikes = dataset['spikesICcl']\n",
    "\n",
    "    del fol, dataset\n",
    "    \n",
    "    return spikes"
   ]
  },
  {
   "cell_type": "code",
   "execution_count": 24,
   "metadata": {
    "ExecuteTime": {
     "end_time": "2019-09-08T16:06:45.243823Z",
     "start_time": "2019-09-08T16:06:45.238835Z"
    }
   },
   "outputs": [],
   "source": [
    "def set_up(spikes):\n",
    "    dur = 0.3\n",
    "    cw = 0.0001 * br.second\n",
    "    bins = len(np.arange(0 * br.second, dur * br.second + 0.05 * br.second + cw, cw)) - 1\n",
    "    neurons, itd, reps = np.shape(spikes)\n",
    "    return dur, cw, bins, neurons, itd, reps"
   ]
  },
  {
   "cell_type": "code",
   "execution_count": 25,
   "metadata": {
    "ExecuteTime": {
     "end_time": "2019-09-08T16:06:46.287033Z",
     "start_time": "2019-09-08T16:06:46.281049Z"
    }
   },
   "outputs": [],
   "source": [
    "def make_hist(spikes, neurons, itd, bins):\n",
    "\n",
    "    hist = np.ndarray([int(neurons), int(itd), bins])\n",
    "\n",
    "    for t in range(itd):\n",
    "        for n in range(neurons):\n",
    "            sp = spikes[n, t, :]\n",
    "            sp = [s/1000 for s in sp]\n",
    "            try:\n",
    "                hist[n, t, :] = repro.make_PSTH(np.concatenate(sp, 1), dur * br.second, cw, reps, 0 * br.second)\n",
    "            except:\n",
    "                print(str(t), str(n))\n",
    "\n",
    "    del t, n, sp\n",
    "\n",
    "    return hist"
   ]
  },
  {
   "cell_type": "code",
   "execution_count": 26,
   "metadata": {
    "ExecuteTime": {
     "end_time": "2019-09-08T16:06:47.318276Z",
     "start_time": "2019-09-08T16:06:47.309300Z"
    }
   },
   "outputs": [],
   "source": [
    "def run_SAC(itd, neurons, hist, reps, cw):\n",
    "\n",
    "    # variables\n",
    "    curve_time = 100\n",
    "\n",
    "    rep_out = pd.DataFrame(columns = ['neuron', 'itd', 'fr', 'curve'])\n",
    "\n",
    "    for t in range(itd):\n",
    "        for n in range(neurons):\n",
    "            try:\n",
    "                e, SAC = repro.autocor(hist[n, t, :] * br.Hz, reps, T=curve_time*br.ms, bin=cw)\n",
    "                SAC = SAC * br.Hz ** 2\n",
    "                sp = np.mean(hist[n, t, :])\n",
    "            except:\n",
    "                print(str(t), str(n))\n",
    "                arr = np.arange(-(curve_time * br.ms), (curve_time * br.ms) , cw)\n",
    "                arr = np.delete(arr, 0)\n",
    "                arr[:] = np.nan\n",
    "                SAC = arr\n",
    "                del arr\n",
    "                sp = np.nan\n",
    "                pass\n",
    "            tmp = {'neuron': n, 'itd': t, 'fr':sp, 'curve': SAC}\n",
    "            rep_out = rep_out.append(tmp, ignore_index = True)\n",
    "\n",
    "    del e, n, t, SAC, sp, tmp\n",
    "\n",
    "    return rep_out"
   ]
  },
  {
   "cell_type": "code",
   "execution_count": 27,
   "metadata": {
    "ExecuteTime": {
     "end_time": "2019-09-08T16:06:48.341540Z",
     "start_time": "2019-09-08T16:06:48.335557Z"
    }
   },
   "outputs": [],
   "source": [
    "def save_data(rep_out, group):\n",
    "\n",
    "    curve = [c for c in rep_out['curve']]\n",
    "\n",
    "    sio.savemat('K:\\\\python\\\\reproducibility\\\\data\\\\iccl\\\\repro_iccl_ITD' + str(group) + '_001_SNR20.mat', {'curve':curve, 'cw':cw, 'neuron':rep_out['neuron'].tolist(), 'itd':rep_out['itd'].tolist(), 'fr':rep_out['fr'].tolist(), 'reps':reps, 'dur':dur})\n",
    "\n",
    "    del curve"
   ]
  },
  {
   "cell_type": "code",
   "execution_count": 20,
   "metadata": {
    "ExecuteTime": {
     "end_time": "2019-09-08T15:44:39.629183Z",
     "start_time": "2019-09-08T15:44:39.128522Z"
    }
   },
   "outputs": [
    {
     "ename": "NameError",
     "evalue": "name 'curve_time' is not defined",
     "output_type": "error",
     "traceback": [
      "\u001b[1;31m---------------------------------------------------------------------------\u001b[0m",
      "\u001b[1;31mNameError\u001b[0m                                 Traceback (most recent call last)",
      "\u001b[1;32m<ipython-input-20-eb244d4d510b>\u001b[0m in \u001b[0;36m<module>\u001b[1;34m\u001b[0m\n\u001b[1;32m----> 1\u001b[1;33m \u001b[1;32mdel\u001b[0m \u001b[0mbins\u001b[0m\u001b[1;33m,\u001b[0m \u001b[0mcurve_time\u001b[0m\u001b[1;33m,\u001b[0m \u001b[0mcw\u001b[0m\u001b[1;33m,\u001b[0m \u001b[0mdur\u001b[0m\u001b[1;33m,\u001b[0m \u001b[0mgroup\u001b[0m\u001b[1;33m,\u001b[0m \u001b[0mneurons\u001b[0m\u001b[1;33m,\u001b[0m \u001b[0mreps\u001b[0m\u001b[1;33m,\u001b[0m \u001b[0mhist\u001b[0m\u001b[1;33m,\u001b[0m \u001b[0mspikes\u001b[0m\u001b[1;33m,\u001b[0m \u001b[0mrep_out\u001b[0m\u001b[1;33m\u001b[0m\u001b[1;33m\u001b[0m\u001b[0m\n\u001b[0m",
      "\u001b[1;31mNameError\u001b[0m: name 'curve_time' is not defined"
     ]
    }
   ],
   "source": [
    "del bins, curve_time, cw, dur, group, neurons, reps, hist, spikes, rep_out"
   ]
  },
  {
   "cell_type": "code",
   "execution_count": 32,
   "metadata": {
    "ExecuteTime": {
     "end_time": "2019-09-09T15:39:18.654271Z",
     "start_time": "2019-09-09T15:39:18.650282Z"
    }
   },
   "outputs": [],
   "source": [
    "groups = np.arange(-200, -20, 20)"
   ]
  },
  {
   "cell_type": "code",
   "execution_count": 34,
   "metadata": {
    "ExecuteTime": {
     "end_time": "2019-09-09T16:06:49.011851Z",
     "start_time": "2019-09-09T16:05:20.284076Z"
    },
    "scrolled": true
   },
   "outputs": [
    {
     "name": "stdout",
     "output_type": "stream",
     "text": [
      "running 200\n",
      "loading\n",
      "set up\n",
      "making hist\n",
      "running sac\n",
      "saving\n",
      "\n"
     ]
    }
   ],
   "source": [
    "#for g in groups:\n",
    "    \n",
    "g = 200\n",
    "print('running ' + str(g))\n",
    "print('loading')\n",
    "spikes = load_data(g)\n",
    "print('set up')\n",
    "dur, cw, bins, neurons, itd, reps = set_up(spikes)\n",
    "print('making hist')\n",
    "hist = make_hist(spikes, neurons, itd, bins)\n",
    "print('running sac')\n",
    "rep_out = run_SAC(itd, neurons, hist, reps, cw)\n",
    "print('saving')\n",
    "save_data(rep_out, g)\n",
    "print('')"
   ]
  },
  {
   "cell_type": "code",
   "execution_count": null,
   "metadata": {},
   "outputs": [],
   "source": []
  }
 ],
 "metadata": {
  "kernelspec": {
   "display_name": "Python 3",
   "language": "python",
   "name": "python3"
  },
  "language_info": {
   "codemirror_mode": {
    "name": "ipython",
    "version": 3
   },
   "file_extension": ".py",
   "mimetype": "text/x-python",
   "name": "python",
   "nbconvert_exporter": "python",
   "pygments_lexer": "ipython3",
   "version": "3.7.3"
  },
  "toc": {
   "base_numbering": 1,
   "nav_menu": {},
   "number_sections": true,
   "sideBar": true,
   "skip_h1_title": false,
   "title_cell": "Table of Contents",
   "title_sidebar": "Contents",
   "toc_cell": false,
   "toc_position": {},
   "toc_section_display": true,
   "toc_window_display": false
  },
  "varInspector": {
   "cols": {
    "lenName": 16,
    "lenType": 16,
    "lenVar": 40
   },
   "kernels_config": {
    "python": {
     "delete_cmd_postfix": "",
     "delete_cmd_prefix": "del ",
     "library": "var_list.py",
     "varRefreshCmd": "print(var_dic_list())"
    },
    "r": {
     "delete_cmd_postfix": ") ",
     "delete_cmd_prefix": "rm(",
     "library": "var_list.r",
     "varRefreshCmd": "cat(var_dic_list()) "
    }
   },
   "types_to_exclude": [
    "module",
    "function",
    "builtin_function_or_method",
    "instance",
    "_Feature"
   ],
   "window_display": true
  }
 },
 "nbformat": 4,
 "nbformat_minor": 2
}
