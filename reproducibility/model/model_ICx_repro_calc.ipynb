{
 "cells": [
  {
   "cell_type": "code",
   "execution_count": 1,
   "metadata": {
    "ExecuteTime": {
     "end_time": "2019-05-10T17:46:42.356000Z",
     "start_time": "2019-05-10T17:46:39.203000Z"
    }
   },
   "outputs": [],
   "source": [
    "import brian2 as br\n",
    "import numpy as np\n",
    "import pandas as pd\n",
    "import repro_functions as repro\n",
    "import scipy.io as sio"
   ]
  },
  {
   "cell_type": "code",
   "execution_count": 5,
   "metadata": {
    "ExecuteTime": {
     "end_time": "2019-05-10T17:47:20.104000Z",
     "start_time": "2019-05-10T17:47:20.058000Z"
    }
   },
   "outputs": [],
   "source": [
    "fol = r'f:\\desktop\\Code\\Reproducibility\\model_ICx\\SynchResults\\data\\iccl'\n",
    "group = 100\n",
    "\n",
    "dataset = sio.loadmat(fol + '\\\\SynchOut_ITD' + str(group) + '_001.mat')\n",
    "spikes = dataset['spikesICx']\n",
    "\n",
    "del fol, dataset"
   ]
  },
  {
   "cell_type": "code",
   "execution_count": 7,
   "metadata": {
    "ExecuteTime": {
     "end_time": "2019-05-10T17:47:27.712000Z",
     "start_time": "2019-05-10T17:47:27.705000Z"
    }
   },
   "outputs": [],
   "source": [
    "dur = 0.3\n",
    "cw = 0.0001 * br.second\n",
    "bins = len(np.arange(0 * br.second, dur * br.second + 0.05 * br.second + cw, cw)) - 1\n",
    "try:\n",
    "    neurons, reps, params = np.shape(spikes)\n",
    "except:\n",
    "    neurons, reps = np.shape(spikes)\n",
    "    params = 1"
   ]
  },
  {
   "cell_type": "code",
   "execution_count": 8,
   "metadata": {
    "ExecuteTime": {
     "end_time": "2019-05-10T17:47:31.065000Z",
     "start_time": "2019-05-10T17:47:30.938000Z"
    }
   },
   "outputs": [
    {
     "ename": "IndexError",
     "evalue": "too many indices for array",
     "output_type": "error",
     "traceback": [
      "\u001b[1;31m---------------------------------------------------------------------------\u001b[0m",
      "\u001b[1;31mIndexError\u001b[0m                                Traceback (most recent call last)",
      "\u001b[1;32m<ipython-input-8-9b9ba6d7f177>\u001b[0m in \u001b[0;36m<module>\u001b[1;34m()\u001b[0m\n\u001b[0;32m      3\u001b[0m \u001b[1;32mfor\u001b[0m \u001b[0mp\u001b[0m \u001b[1;32min\u001b[0m \u001b[0mrange\u001b[0m\u001b[1;33m(\u001b[0m\u001b[0mparams\u001b[0m\u001b[1;33m)\u001b[0m\u001b[1;33m:\u001b[0m\u001b[1;33m\u001b[0m\u001b[0m\n\u001b[0;32m      4\u001b[0m     \u001b[1;32mfor\u001b[0m \u001b[0mn\u001b[0m \u001b[1;32min\u001b[0m \u001b[0mrange\u001b[0m\u001b[1;33m(\u001b[0m\u001b[0mneurons\u001b[0m\u001b[1;33m)\u001b[0m\u001b[1;33m:\u001b[0m\u001b[1;33m\u001b[0m\u001b[0m\n\u001b[1;32m----> 5\u001b[1;33m         \u001b[0msp\u001b[0m \u001b[1;33m=\u001b[0m \u001b[0mspikes\u001b[0m\u001b[1;33m[\u001b[0m\u001b[0mn\u001b[0m\u001b[1;33m,\u001b[0m \u001b[1;33m:\u001b[0m\u001b[1;33m,\u001b[0m \u001b[0mp\u001b[0m\u001b[1;33m]\u001b[0m\u001b[1;33m\u001b[0m\u001b[0m\n\u001b[0m\u001b[0;32m      6\u001b[0m         \u001b[0msp\u001b[0m \u001b[1;33m=\u001b[0m \u001b[1;33m[\u001b[0m\u001b[0ms\u001b[0m\u001b[1;33m/\u001b[0m\u001b[1;36m1000\u001b[0m \u001b[1;32mfor\u001b[0m \u001b[0ms\u001b[0m \u001b[1;32min\u001b[0m \u001b[0msp\u001b[0m\u001b[1;33m]\u001b[0m\u001b[1;33m\u001b[0m\u001b[0m\n\u001b[0;32m      7\u001b[0m         \u001b[1;32mtry\u001b[0m\u001b[1;33m:\u001b[0m\u001b[1;33m\u001b[0m\u001b[0m\n",
      "\u001b[1;31mIndexError\u001b[0m: too many indices for array"
     ]
    }
   ],
   "source": [
    "hist = np.ndarray([int(neurons), int(params), bins])\n",
    "\n",
    "for p in range(params):\n",
    "    for n in range(neurons):\n",
    "        sp = spikes[n, :, p]\n",
    "        sp = [s/1000 for s in sp]\n",
    "        try:\n",
    "            hist[n, p, :] = repro.make_PSTH(np.concatenate(sp, 1), dur * br.second, cw, reps, 0 * br.second)\n",
    "        except:\n",
    "            print(str(p), str(n))\n",
    "            \n",
    "del p, n, sp, s"
   ]
  },
  {
   "cell_type": "code",
   "execution_count": 18,
   "metadata": {
    "ExecuteTime": {
     "end_time": "2019-05-10T17:47:45.854000Z",
     "start_time": "2019-05-10T17:47:34.225000Z"
    }
   },
   "outputs": [],
   "source": [
    "# variables\n",
    "curve_time = 100\n",
    "\n",
    "rep_out = pd.DataFrame(columns = ['neuron', 'params', 'fr', 'curve'])\n",
    "\n",
    "for p in range(params):\n",
    "    for n in range(neurons):\n",
    "        try:\n",
    "            t, SAC = repro.autocor(hist[n, p, :] * br.Hz, reps, T=curve_time*br.ms, bin=cw)\n",
    "            SAC = SAC * br.Hz ** 2\n",
    "            sp = np.mean(hist[n, p, :])\n",
    "        except:\n",
    "            print(str(p), str(n))\n",
    "            arr = np.arange(-(curve_time * br.ms), (curve_time * br.ms) , cw)\n",
    "            arr = np.delete(arr, 0)\n",
    "            arr[:] = np.nan\n",
    "            SAC = arr\n",
    "            del arr\n",
    "            sp = np.nan\n",
    "            pass\n",
    "        tmp = {'neuron': n, 'params': p, 'fr':sp, 'curve': SAC}\n",
    "        rep_out = rep_out.append(tmp, ignore_index = True)\n",
    "    \n",
    "del p, n, t, SAC, sp, tmp"
   ]
  },
  {
   "cell_type": "code",
   "execution_count": 19,
   "metadata": {
    "ExecuteTime": {
     "end_time": "2019-05-10T17:48:00.490000Z",
     "start_time": "2019-05-10T17:48:00.459000Z"
    }
   },
   "outputs": [],
   "source": [
    "curve = [c for c in rep_out['curve']]\n",
    "\n",
    "sio.savemat('repro_ITD' + str(group) + '_001_constant.mat', {'curve':curve, 'cw':cw, 'neuron':rep_out['neuron'].tolist(), 'params':rep_out['params'].tolist(), 'fr':rep_out['fr'].tolist(), 'reps':reps, 'dur':dur})\n",
    "\n",
    "del curve, c"
   ]
  },
  {
   "cell_type": "code",
   "execution_count": 20,
   "metadata": {
    "ExecuteTime": {
     "end_time": "2019-05-10T17:48:02.552000Z",
     "start_time": "2019-05-10T17:48:02.546000Z"
    }
   },
   "outputs": [],
   "source": [
    "del bins, curve_time, cw, dur, group, neurons, params, reps"
   ]
  },
  {
   "cell_type": "code",
   "execution_count": 21,
   "metadata": {
    "ExecuteTime": {
     "end_time": "2019-05-10T17:48:02.912000Z",
     "start_time": "2019-05-10T17:48:02.897000Z"
    }
   },
   "outputs": [],
   "source": [
    "del hist, spikes"
   ]
  },
  {
   "cell_type": "code",
   "execution_count": 22,
   "metadata": {
    "ExecuteTime": {
     "end_time": "2019-05-10T17:48:03.543000Z",
     "start_time": "2019-05-10T17:48:03.537000Z"
    }
   },
   "outputs": [],
   "source": [
    "del rep_out"
   ]
  }
 ],
 "metadata": {
  "kernelspec": {
   "display_name": "Python 3",
   "language": "python",
   "name": "python3"
  },
  "language_info": {
   "codemirror_mode": {
    "name": "ipython",
    "version": 3
   },
   "file_extension": ".py",
   "mimetype": "text/x-python",
   "name": "python",
   "nbconvert_exporter": "python",
   "pygments_lexer": "ipython3",
   "version": "3.7.3"
  },
  "toc": {
   "base_numbering": 1,
   "nav_menu": {},
   "number_sections": true,
   "sideBar": true,
   "skip_h1_title": false,
   "title_cell": "Table of Contents",
   "title_sidebar": "Contents",
   "toc_cell": false,
   "toc_position": {},
   "toc_section_display": true,
   "toc_window_display": false
  },
  "varInspector": {
   "cols": {
    "lenName": 16,
    "lenType": 16,
    "lenVar": 40
   },
   "kernels_config": {
    "python": {
     "delete_cmd_postfix": "",
     "delete_cmd_prefix": "del ",
     "library": "var_list.py",
     "varRefreshCmd": "print(var_dic_list())"
    },
    "r": {
     "delete_cmd_postfix": ") ",
     "delete_cmd_prefix": "rm(",
     "library": "var_list.r",
     "varRefreshCmd": "cat(var_dic_list()) "
    }
   },
   "position": {
    "height": "607px",
    "left": "1537px",
    "right": "20px",
    "top": "153px",
    "width": "350px"
   },
   "types_to_exclude": [
    "module",
    "function",
    "builtin_function_or_method",
    "instance",
    "_Feature"
   ],
   "window_display": true
  }
 },
 "nbformat": 4,
 "nbformat_minor": 2
}
